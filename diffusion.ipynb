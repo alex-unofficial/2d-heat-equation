{
 "cells": [
  {
   "cell_type": "code",
   "execution_count": 1,
   "metadata": {
    "collapsed": true,
    "jupyter": {
     "outputs_hidden": true,
     "source_hidden": true
    }
   },
   "outputs": [
    {
     "name": "stdout",
     "output_type": "stream",
     "text": [
      "Using matplotlib backend: Qt5Agg\n",
      "Populating the interactive namespace from numpy and matplotlib\n"
     ]
    }
   ],
   "source": [
    "from __future__ import print_function\n",
    "\n",
    "%pylab\n",
    "%matplotlib inline\n",
    "\n",
    "from ipywidgets import interact, interactive, fixed, interact_manual\n",
    "import ipywidgets as widgets"
   ]
  },
  {
   "cell_type": "markdown",
   "metadata": {},
   "source": [
    "# Diffusion fun\n",
    "\n",
    "we are going to create an example of diffusion in a 2d plane"
   ]
  },
  {
   "cell_type": "markdown",
   "metadata": {},
   "source": [
    "### firstly, we need to create the plane where the Diffusion will take place"
   ]
  },
  {
   "cell_type": "code",
   "execution_count": 2,
   "metadata": {},
   "outputs": [],
   "source": [
    "dt = 0.1 # the time step\n",
    "T = 30    # the final time\n",
    "\n",
    "ds = 0.5  # the space step\n",
    "w = 30    # the width of the frame\n",
    "h = 30    # the height\n",
    "\n",
    "W = int(w/ds)\n",
    "H = int(h/ds)"
   ]
  },
  {
   "cell_type": "code",
   "execution_count": 3,
   "metadata": {},
   "outputs": [],
   "source": [
    "t = linspace(0, T, int(T/dt))"
   ]
  },
  {
   "cell_type": "code",
   "execution_count": 4,
   "metadata": {},
   "outputs": [
    {
     "data": {
      "text/plain": [
       "(300, 60, 60)"
      ]
     },
     "execution_count": 4,
     "metadata": {},
     "output_type": "execute_result"
    }
   ],
   "source": [
    "# p represents the concentration at each point \n",
    "p = zeros(t.shape + (W,H))\n",
    "p.shape"
   ]
  },
  {
   "cell_type": "code",
   "execution_count": 5,
   "metadata": {},
   "outputs": [
    {
     "data": {
      "text/plain": [
       "(60, 60)"
      ]
     },
     "execution_count": 5,
     "metadata": {},
     "output_type": "execute_result"
    }
   ],
   "source": [
    "# we can slice the array to get one time frame of data\n",
    "# for time = 0\n",
    "p0 = p[0]\n",
    "p0.shape"
   ]
  },
  {
   "cell_type": "code",
   "execution_count": 6,
   "metadata": {},
   "outputs": [
    {
     "data": {
      "text/plain": [
       "0.0"
      ]
     },
     "execution_count": 6,
     "metadata": {},
     "output_type": "execute_result"
    }
   ],
   "source": [
    "# then we can index p0 like a 2d array\n",
    "p0[1,4]"
   ]
  },
  {
   "cell_type": "markdown",
   "metadata": {},
   "source": [
    "-------------------------------------"
   ]
  },
  {
   "cell_type": "markdown",
   "metadata": {},
   "source": [
    "### Now we can do the actual diffusion\n",
    "but first, some theory"
   ]
  },
  {
   "cell_type": "markdown",
   "metadata": {},
   "source": [
    "the diffusion equation (for constant diffusion coefficient D) is given by the following differential equation\n",
    "\n",
    "$ \\cfrac{\\mathrm{d} \\phi}{\\mathrm{d} t} = D \\cdot \\nabla^2 \\phi$"
   ]
  },
  {
   "cell_type": "markdown",
   "metadata": {},
   "source": [
    "in 2D this becomes \n",
    "\n",
    "$ \\cfrac{\\mathrm{d} \\phi}{\\mathrm{d} t} = D \\cdot \\left( \\cfrac{\\partial^2 \\phi}{\\partial x^2} + \\cfrac{\\partial^2 \\phi}{\\partial y^2} \\right)$"
   ]
  },
  {
   "cell_type": "markdown",
   "metadata": {},
   "source": [
    "then $\\phi(t + \\mathrm{d}t)$ is equal to\n",
    "\n",
    "$ \\phi(t + \\mathrm{d}t) = \\phi(t) + \\mathrm{d}\\phi $"
   ]
  },
  {
   "cell_type": "markdown",
   "metadata": {},
   "source": [
    "and $\\mathrm{d}\\phi$ is\n",
    "\n",
    "$ \\mathrm{d}\\phi = D \\, \\nabla^2 \\phi \\cdot \\mathrm{d}t $"
   ]
  },
  {
   "cell_type": "markdown",
   "metadata": {},
   "source": [
    "------------------------------"
   ]
  },
  {
   "cell_type": "markdown",
   "metadata": {},
   "source": [
    "*but wait*, what exactly is the laplacian operator $\\nabla^2$?"
   ]
  },
  {
   "cell_type": "markdown",
   "metadata": {},
   "source": [
    "to figure that out we need to learn about Laplace equations:\n",
    "\n",
    "$\\nabla^2 \\phi = 0$"
   ]
  },
  {
   "cell_type": "markdown",
   "metadata": {},
   "source": [
    "simply put, the solutions of laplace equations have an interesting property,\n",
    "that any point $\\phi(x,y)$ will be equal to the average of $\\phi$ around the point $(x,y)$"
   ]
  },
  {
   "cell_type": "markdown",
   "metadata": {},
   "source": [
    "intuitively, the laplacian of a function gives some measure of the value of $\\phi$ at a point vs the average of $\\phi$ around that point"
   ]
  },
  {
   "cell_type": "markdown",
   "metadata": {},
   "source": [
    "for some small area $\\epsilon$ around $(x_0,y_0)$\n",
    "\n",
    "$$\\nabla^2 \\phi \\approx \\frac{1}{\\epsilon} \\iint_{\\epsilon} \\phi(x,y) \\; \\mathrm{d}x\\mathrm{d}y - \\phi(x_0,y_0)$$"
   ]
  },
  {
   "cell_type": "markdown",
   "metadata": {},
   "source": [
    "for our discrete example where density is given in cells, we can take the average sum of the neighboring cells\n",
    "\n",
    "![grid](grid.png)\n",
    "\n",
    "here the red cell is $(x_0, y_0)$ and the green cells are the neighbors. <br>\n",
    "each cell has an area of $\\mathrm{d}s^2$ and there are 4 of them so $\\epsilon = 4 \\mathrm{d}s^2$\n",
    "\n",
    "the integral then becomes a sum and finally:\n",
    "\n",
    "$$ \\nabla^2 \\phi \\approx \\frac{\\phi[x_0+1, y_0] + \\phi[x_0-1, y_0] + \\phi[x_0, y_0+1] + \\phi[x_0, y_0-1]}{4 \\mathrm{d}s^2} - \\frac{\\phi[x_0, y_0]}{\\mathrm{d}s^2} $$"
   ]
  },
  {
   "cell_type": "markdown",
   "metadata": {},
   "source": [
    "notice the $\\mathrm{d}s^2$ under the $\\phi[x_0, y_0]$ because now it represents the entire area of the cell"
   ]
  },
  {
   "cell_type": "markdown",
   "metadata": {},
   "source": [
    "---------------------------------------------"
   ]
  },
  {
   "cell_type": "markdown",
   "metadata": {},
   "source": [
    "With that information we can calculate $\\mathrm{d}\\phi$\n",
    "\n",
    "$ \\mathrm{d}\\phi = \\frac{D}{\\mathrm{d}s^2} \\left( \\frac{\\phi[x_0+1, y_0] + \\phi[x_0-1, y_0] + \\phi[x_0, y_0+1] + \\phi[x_0, y_0-1]}{4} - \\phi[x_0, y_0] \\right) \\mathrm{d}t $"
   ]
  },
  {
   "cell_type": "markdown",
   "metadata": {},
   "source": [
    "$D, \\mathrm{d}s, \\mathrm{d}t$ are constant so we can define some variable $k = D \\cfrac{\\mathrm{d}t}{\\mathrm{d}s^2}$ and so\n",
    "\n",
    "$ \\mathrm{d}\\phi = k \\left( \\frac{\\phi[x_0+1, y_0] + \\phi[x_0-1, y_0] + \\phi[x_0, y_0+1] + \\phi[x_0, y_0-1]}{4} - \\phi[x_0, y_0] \\right)$"
   ]
  },
  {
   "cell_type": "markdown",
   "metadata": {},
   "source": [
    "then **finally**,\n",
    "\n",
    "$ \\phi[t + 1] = \\phi[x, y] +  k \\left( \\frac{\\phi[x+1, y] + \\phi[x-1, y] + \\phi[x, y+1] + \\phi[x, y-1]}{4} - \\phi[x, y] \\right) \\\\\n",
    "   = \\left( 1 - k \\right) \\phi[x, y] +  k \\frac{\\phi[x+1, y] + \\phi[x-1, y] + \\phi[x, y+1] + \\phi[x, y-1]}{4} $"
   ]
  },
  {
   "cell_type": "markdown",
   "metadata": {},
   "source": [
    "now we are finally ready to create the implementation"
   ]
  },
  {
   "cell_type": "markdown",
   "metadata": {},
   "source": [
    "---------------------------------------------"
   ]
  },
  {
   "cell_type": "code",
   "execution_count": 7,
   "metadata": {},
   "outputs": [],
   "source": [
    "# first defining the variables\n",
    "D = 0.5               # the diffusion coefficient\n",
    "k = (D*dt)/(ds**2)  # the k variable from the formula"
   ]
  },
  {
   "cell_type": "code",
   "execution_count": 8,
   "metadata": {},
   "outputs": [],
   "source": [
    "# this function returns the averaged sum of the neighbors of the cell (x,y) at time = t[i]\n",
    "def avg_p(i, x, y):\n",
    "    p_ = p[i]  # slice of p for time = t[i]\n",
    "    \n",
    "    nbs = []\n",
    "    \n",
    "    # to avoid clashing with the boundaries\n",
    "    if x > 0:\n",
    "        nbs.append(p_[x-1, y])\n",
    "    if x < W - 1:\n",
    "        nbs.append(p_[x+1, y])\n",
    "    if y > 0:\n",
    "        nbs.append(p_[x, y-1])\n",
    "    if y < H - 1:\n",
    "        nbs.append(p_[x, y+1])\n",
    "        \n",
    "    return sum(nbs)/len(nbs)"
   ]
  },
  {
   "cell_type": "code",
   "execution_count": 9,
   "metadata": {},
   "outputs": [],
   "source": [
    "# it's useful to have x,y arrays for our formulas\n",
    "x = linspace(-w/2, w/2, W)\n",
    "y = linspace(-h/2, h/2, H)"
   ]
  },
  {
   "cell_type": "code",
   "execution_count": 10,
   "metadata": {},
   "outputs": [],
   "source": [
    "# firstly, we have to set the initial conditions\n",
    "for i in range(W):\n",
    "    for j in range(H):\n",
    "        x0 = x[i]\n",
    "        y0 = y[j]\n",
    "        \n",
    "        p[0][i,j] = 5*(1- 2*random.rand())"
   ]
  },
  {
   "cell_type": "code",
   "execution_count": 11,
   "metadata": {},
   "outputs": [
    {
     "data": {
      "text/plain": [
       "<matplotlib.collections.QuadMesh at 0x7f9b1dc60c70>"
      ]
     },
     "execution_count": 11,
     "metadata": {},
     "output_type": "execute_result"
    },
    {
     "data": {
      "image/png": "[encoded data removed]",
      "text/plain": [
       "<Figure size 360x360 with 1 Axes>"
      ]
     },
     "metadata": {
      "needs_background": "light"
     },
     "output_type": "display_data"
    }
   ],
   "source": [
    "# to see the results we can plot it\n",
    "plt.figure(figsize=(5,5))\n",
    "plt.pcolormesh(p0, cmap='plasma')"
   ]
  },
  {
   "cell_type": "code",
   "execution_count": 12,
   "metadata": {},
   "outputs": [],
   "source": [
    "# then we iteratively run the formula for every slice of time\n",
    "for i in range(1, len(t)):\n",
    "    for x0 in range(W):\n",
    "        for y0 in range(H):\n",
    "            p[i][x0,y0]  = (1-k) * p[i-1][x0,y0] + k * avg_p(i-1, x0, y0)\n"
   ]
  },
  {
   "cell_type": "code",
   "execution_count": 13,
   "metadata": {},
   "outputs": [
    {
     "data": {
      "application/vnd.jupyter.widget-view+json": {
       "model_id": "4d622bc66f204402a429952f9adad047",
       "version_major": 2,
       "version_minor": 0
      },
      "text/plain": [
       "interactive(children=(IntSlider(value=0, description='i', max=299), Output()), _dom_classes=('widget-interact'…"
      ]
     },
     "metadata": {},
     "output_type": "display_data"
    }
   ],
   "source": [
    "@interact(i = (0, len(t) - 1))\n",
    "def plot_diff(i = 0):\n",
    "    plt.figure(figsize=(11,9))\n",
    "    plt.pcolormesh(p[i], vmin=np.min(p[0]), vmax=np.max(p[0]), cmap='plasma')\n",
    "    plt.colorbar()\n",
    "    plt.show()\n",
    "    \n",
    "# use the slider to change the time."
   ]
  },
  {
   "cell_type": "code",
   "execution_count": null,
   "metadata": {},
   "outputs": [],
   "source": []
  }
 ],
 "metadata": {
  "kernelspec": {
   "display_name": "Python 3",
   "language": "python",
   "name": "python3"
  },
  "language_info": {
   "codemirror_mode": {
    "name": "ipython",
    "version": 3
   },
   "file_extension": ".py",
   "mimetype": "text/x-python",
   "name": "python",
   "nbconvert_exporter": "python",
   "pygments_lexer": "ipython3",
   "version": "3.8.5"
  }
 },
 "nbformat": 4,
 "nbformat_minor": 4
}
